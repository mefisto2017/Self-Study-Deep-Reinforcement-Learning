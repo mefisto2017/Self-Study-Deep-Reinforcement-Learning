{
 "cells": [
  {
   "cell_type": "markdown",
   "metadata": {},
   "source": [
    "# Chapter 3 - Deep Q-learning\n",
    "### Deep Reinforcement Learning *in Action*"
   ]
  },
  {
   "cell_type": "markdown",
   "metadata": {},
   "source": [
    "##### Listing 3.1"
   ]
  },
  {
   "cell_type": "code",
   "execution_count": 27,
   "metadata": {},
   "outputs": [],
   "source": [
    "from Gridworld import Gridworld\n",
    "game = Gridworld(size=4, mode='static')"
   ]
  },
  {
   "cell_type": "code",
   "execution_count": 28,
   "metadata": {},
   "outputs": [
    {
     "data": {
      "text/plain": [
       "array([['+', '-', ' ', 'P'],\n",
       "       [' ', 'W', ' ', ' '],\n",
       "       [' ', ' ', ' ', ' '],\n",
       "       [' ', ' ', ' ', ' ']], dtype='<U2')"
      ]
     },
     "execution_count": 28,
     "metadata": {},
     "output_type": "execute_result"
    }
   ],
   "source": [
    "game.display()"
   ]
  },
  {
   "cell_type": "code",
   "execution_count": 29,
   "metadata": {},
   "outputs": [
    {
     "data": {
      "text/plain": [
       "array([['+', '-', ' ', ' '],\n",
       "       [' ', 'W', ' ', ' '],\n",
       "       [' ', ' ', 'P', ' '],\n",
       "       [' ', ' ', ' ', ' ']], dtype='<U2')"
      ]
     },
     "execution_count": 29,
     "metadata": {},
     "output_type": "execute_result"
    }
   ],
   "source": [
    "game.makeMove('d')\n",
    "game.makeMove('d')\n",
    "game.makeMove('l')\n",
    "game.display()"
   ]
  },
  {
   "cell_type": "code",
   "execution_count": 30,
   "metadata": {},
   "outputs": [
    {
     "data": {
      "text/plain": [
       "-1"
      ]
     },
     "execution_count": 30,
     "metadata": {},
     "output_type": "execute_result"
    }
   ],
   "source": [
    "game.reward()"
   ]
  },
  {
   "cell_type": "code",
   "execution_count": 32,
   "metadata": {},
   "outputs": [
    {
     "data": {
      "text/plain": [
       "array([[[0, 0, 0, 0],\n",
       "        [0, 0, 0, 0],\n",
       "        [0, 0, 1, 0],\n",
       "        [0, 0, 0, 0]],\n",
       "\n",
       "       [[1, 0, 0, 0],\n",
       "        [0, 0, 0, 0],\n",
       "        [0, 0, 0, 0],\n",
       "        [0, 0, 0, 0]],\n",
       "\n",
       "       [[0, 1, 0, 0],\n",
       "        [0, 0, 0, 0],\n",
       "        [0, 0, 0, 0],\n",
       "        [0, 0, 0, 0]],\n",
       "\n",
       "       [[0, 0, 0, 0],\n",
       "        [0, 1, 0, 0],\n",
       "        [0, 0, 0, 0],\n",
       "        [0, 0, 0, 0]]], dtype=uint8)"
      ]
     },
     "execution_count": 32,
     "metadata": {},
     "output_type": "execute_result"
    }
   ],
   "source": [
    "game.board.render_np()"
   ]
  },
  {
   "cell_type": "markdown",
   "metadata": {},
   "source": [
    "##### Listing 3.2"
   ]
  },
  {
   "cell_type": "code",
   "execution_count": 2,
   "metadata": {},
   "outputs": [],
   "source": [
    "import numpy as np\n",
    "import torch\n",
    "from Gridworld import Gridworld\n",
    "from IPython.display import clear_output\n",
    "import random\n",
    "from matplotlib import pylab as plt\n",
    "\n",
    "l1 = 64\n",
    "l2 = 150\n",
    "l3 = 100\n",
    "l4 = 4\n",
    "\n",
    "model = torch.nn.Sequential(\n",
    "    torch.nn.Linear(l1, l2),\n",
    "    torch.nn.ReLU(),\n",
    "    torch.nn.Linear(l2, l3),\n",
    "    torch.nn.ReLU(),\n",
    "    torch.nn.Linear(l3,l4)\n",
    ")\n",
    "loss_fn = torch.nn.MSELoss()\n",
    "learning_rate = 1e-3\n",
    "optimizer = torch.optim.Adam(model.parameters(), lr=learning_rate)\n",
    "\n",
    "gamma = 0.9\n",
    "epsilon = 1.0\n",
    "learning_rate = 1e-3\n",
    "optimizer = torch.optim.Adam(model.parameters(), lr=learning_rate)\n",
    "\n",
    "gamma = 0.9\n",
    "epsilon = 1.0"
   ]
  },
  {
   "cell_type": "markdown",
   "metadata": {},
   "source": [
    "##### Listing 3.3"
   ]
  },
  {
   "cell_type": "code",
   "execution_count": 3,
   "metadata": {},
   "outputs": [],
   "source": [
    "action_set = {\n",
    "    0: 'u',\n",
    "    1: 'd',\n",
    "    2: 'l',\n",
    "    3: 'r',\n",
    "}"
   ]
  },
  {
   "cell_type": "code",
   "execution_count": 6,
   "metadata": {},
   "outputs": [
    {
     "name": "stderr",
     "output_type": "stream",
     "text": [
      "IOPub message rate exceeded.\n",
      "The notebook server will temporarily stop sending output\n",
      "to the client in order to avoid crashing it.\n",
      "To change this limit, set the config variable\n",
      "`--NotebookApp.iopub_msg_rate_limit`.\n",
      "\n",
      "Current values:\n",
      "NotebookApp.iopub_msg_rate_limit=1000.0 (msgs/sec)\n",
      "NotebookApp.rate_limit_window=3.0 (secs)\n",
      "\n"
     ]
    }
   ],
   "source": [
    "epochs = 1000\n",
    "losses = [] #A\n",
    "for i in range(epochs): #B\n",
    "    game = Gridworld(size=4, mode='static') #C\n",
    "    state_ = game.board.render_np().reshape(1,64) + np.random.rand(1,64)/10.0 #D\n",
    "    state1 = torch.from_numpy(state_).float() #E\n",
    "    status = 1 #F\n",
    "    while(status == 1): #G\n",
    "        qval = model(state1) #H\n",
    "        qval_ = qval.data.numpy()\n",
    "        if (random.random() < epsilon): #I\n",
    "            action_ = np.random.randint(0,4)\n",
    "        else:\n",
    "            action_ = np.argmax(qval_)\n",
    "        \n",
    "        action = action_set[action_] #J\n",
    "        game.makeMove(action) #K\n",
    "        state2_ = game.board.render_np().reshape(1,64) + np.random.rand(1,64)/10.0\n",
    "        state2 = torch.from_numpy(state2_).float() #L\n",
    "        reward = game.reward()\n",
    "        with torch.no_grad():\n",
    "            newQ = model(state2.reshape(1,64))\n",
    "        maxQ = torch.max(newQ) #M\n",
    "        if reward == -1: #N\n",
    "            Y = reward + (gamma * maxQ)\n",
    "        else:\n",
    "            Y = reward\n",
    "        Y = torch.Tensor([Y]).detach()\n",
    "        X = qval.squeeze()[action_] #O\n",
    "        loss = loss_fn(X, Y) #P\n",
    "        print(i, loss.item())\n",
    "        clear_output(wait=True)\n",
    "        optimizer.zero_grad()\n",
    "        loss.backward()\n",
    "        losses.append(loss.item())\n",
    "        optimizer.step()\n",
    "        state1 = state2\n",
    "        if reward != -1: #Q\n",
    "            status = 0\n",
    "    if epsilon > 0.1: #R\n",
    "        epsilon -= (1/epochs)"
   ]
  },
  {
   "cell_type": "code",
   "execution_count": 7,
   "metadata": {},
   "outputs": [
    {
     "data": {
      "text/plain": [
       "Text(0, 0.5, 'Loss')"
      ]
     },
     "execution_count": 7,
     "metadata": {},
     "output_type": "execute_result"
    },
    {
     "data": {
      "image/png": "[encoded data removed]",
      "text/plain": [
       "<Figure size 720x504 with 1 Axes>"
      ]
     },
     "metadata": {
      "needs_background": "light"
     },
     "output_type": "display_data"
    }
   ],
   "source": [
    "plt.figure(figsize=(10,7))\n",
    "plt.plot(losses)\n",
    "plt.xlabel(\"Epochs\",fontsize=22)\n",
    "plt.ylabel(\"Loss\",fontsize=22)"
   ]
  },
  {
   "cell_type": "markdown",
   "metadata": {},
   "source": [
    "##### PyTorch Automatic Differentiation Review"
   ]
  },
  {
   "cell_type": "code",
   "execution_count": 12,
   "metadata": {},
   "outputs": [],
   "source": [
    "m = torch.Tensor([2.0])\n",
    "m.requires_grad=True\n",
    "b = torch.Tensor([1.0])\n",
    "b.requires_grad=True\n",
    "def linear_model(x,m,b):\n",
    "    y = m + b#@ x + b\n",
    "    return y"
   ]
  },
  {
   "cell_type": "code",
   "execution_count": 13,
   "metadata": {},
   "outputs": [],
   "source": [
    "#with torch.no_grad():\n",
    "y = linear_model(torch.Tensor([4]),m,b)"
   ]
  },
  {
   "cell_type": "code",
   "execution_count": 14,
   "metadata": {},
   "outputs": [
    {
     "data": {
      "text/plain": [
       "<AddBackward0 at 0x7f8e8900c2e0>"
      ]
     },
     "execution_count": 14,
     "metadata": {},
     "output_type": "execute_result"
    }
   ],
   "source": [
    "y.grad_fn"
   ]
  },
  {
   "cell_type": "code",
   "execution_count": 15,
   "metadata": {},
   "outputs": [],
   "source": [
    "y.backward()"
   ]
  },
  {
   "cell_type": "code",
   "execution_count": 16,
   "metadata": {},
   "outputs": [
    {
     "data": {
      "text/plain": [
       "tensor([1.])"
      ]
     },
     "execution_count": 16,
     "metadata": {},
     "output_type": "execute_result"
    }
   ],
   "source": [
    "m.grad"
   ]
  },
  {
   "cell_type": "markdown",
   "metadata": {},
   "source": [
    "##### Listing 3.4"
   ]
  },
  {
   "cell_type": "code",
   "execution_count": 8,
   "metadata": {},
   "outputs": [],
   "source": [
    "def test_model(model, mode='static', display=True):\n",
    "    i = 0\n",
    "    test_game = Gridworld(mode=mode)\n",
    "    state_ = test_game.board.render_np().reshape(1,64) + np.random.rand(1,64)/10.0\n",
    "    state = torch.from_numpy(state_).float()\n",
    "    if display:\n",
    "        print(\"Initial State:\")\n",
    "        print(test_game.display())\n",
    "    status = 1\n",
    "    while(status == 1): #A\n",
    "        qval = model(state)\n",
    "        qval_ = qval.data.numpy()\n",
    "        action_ = np.argmax(qval_) #B\n",
    "        action = action_set[action_]\n",
    "        if display:\n",
    "            print('Move #: %s; Taking action: %s' % (i, action))\n",
    "        test_game.makeMove(action)\n",
    "        state_ = test_game.board.render_np().reshape(1,64) + np.random.rand(1,64)/10.0\n",
    "        state = torch.from_numpy(state_).float()\n",
    "        if display:\n",
    "            print(test_game.display())\n",
    "        reward = test_game.reward()\n",
    "        if reward != -1:\n",
    "            if reward > 0:\n",
    "                status = 2\n",
    "                if display:\n",
    "                    print(\"Game won! Reward: %s\" % (reward,))\n",
    "            else:\n",
    "                status = 0\n",
    "                if display:\n",
    "                    print(\"Game LOST. Reward: %s\" % (reward,))\n",
    "        i += 1\n",
    "        if (i > 15):\n",
    "            if display:\n",
    "                print(\"Game lost; too many moves.\")\n",
    "            break\n",
    "    \n",
    "    win = True if status == 2 else False\n",
    "    return win"
   ]
  },
  {
   "cell_type": "code",
   "execution_count": 9,
   "metadata": {},
   "outputs": [
    {
     "name": "stdout",
     "output_type": "stream",
     "text": [
      "Initial State:\n",
      "[['+' '-' ' ' 'P']\n",
      " [' ' 'W' ' ' ' ']\n",
      " [' ' ' ' ' ' ' ']\n",
      " [' ' ' ' ' ' ' ']]\n",
      "Move #: 0; Taking action: d\n",
      "[['+' '-' ' ' ' ']\n",
      " [' ' 'W' ' ' 'P']\n",
      " [' ' ' ' ' ' ' ']\n",
      " [' ' ' ' ' ' ' ']]\n",
      "Move #: 1; Taking action: d\n",
      "[['+' '-' ' ' ' ']\n",
      " [' ' 'W' ' ' ' ']\n",
      " [' ' ' ' ' ' 'P']\n",
      " [' ' ' ' ' ' ' ']]\n",
      "Move #: 2; Taking action: l\n",
      "[['+' '-' ' ' ' ']\n",
      " [' ' 'W' ' ' ' ']\n",
      " [' ' ' ' 'P' ' ']\n",
      " [' ' ' ' ' ' ' ']]\n",
      "Move #: 3; Taking action: l\n",
      "[['+' '-' ' ' ' ']\n",
      " [' ' 'W' ' ' ' ']\n",
      " [' ' 'P' ' ' ' ']\n",
      " [' ' ' ' ' ' ' ']]\n",
      "Move #: 4; Taking action: l\n",
      "[['+' '-' ' ' ' ']\n",
      " [' ' 'W' ' ' ' ']\n",
      " ['P' ' ' ' ' ' ']\n",
      " [' ' ' ' ' ' ' ']]\n",
      "Move #: 5; Taking action: u\n",
      "[['+' '-' ' ' ' ']\n",
      " ['P' 'W' ' ' ' ']\n",
      " [' ' ' ' ' ' ' ']\n",
      " [' ' ' ' ' ' ' ']]\n",
      "Move #: 6; Taking action: u\n",
      "[['+' '-' ' ' ' ']\n",
      " [' ' 'W' ' ' ' ']\n",
      " [' ' ' ' ' ' ' ']\n",
      " [' ' ' ' ' ' ' ']]\n",
      "Game won! Reward: 10\n"
     ]
    },
    {
     "data": {
      "text/plain": [
       "True"
      ]
     },
     "execution_count": 9,
     "metadata": {},
     "output_type": "execute_result"
    }
   ],
   "source": [
    "test_model(model)"
   ]
  },
  {
   "cell_type": "markdown",
   "metadata": {},
   "source": [
    "##### Listing 3.5"
   ]
  },
  {
   "cell_type": "code",
   "execution_count": 19,
   "metadata": {},
   "outputs": [],
   "source": [
    "l1 = 64\n",
    "l2 = 150\n",
    "l3 = 100\n",
    "l4 = 4\n",
    "\n",
    "model = torch.nn.Sequential(\n",
    "    torch.nn.Linear(l1, l2),\n",
    "    torch.nn.ReLU(),\n",
    "    torch.nn.Linear(l2, l3),\n",
    "    torch.nn.ReLU(),\n",
    "    torch.nn.Linear(l3,l4)\n",
    ")\n",
    "loss_fn = torch.nn.MSELoss()\n",
    "learning_rate = 1e-3\n",
    "optimizer = torch.optim.Adam(model.parameters(), lr=learning_rate)\n",
    "\n",
    "learning_rate = 1e-3\n",
    "optimizer = torch.optim.Adam(model.parameters(), lr=learning_rate)\n",
    "\n",
    "gamma = 0.9\n",
    "epsilon = 0.3"
   ]
  },
  {
   "cell_type": "code",
   "execution_count": 10,
   "metadata": {},
   "outputs": [
    {
     "name": "stdout",
     "output_type": "stream",
     "text": [
      "4999 0.09387863427400589\n"
     ]
    }
   ],
   "source": [
    "from collections import deque\n",
    "epochs = 5000\n",
    "losses = []\n",
    "mem_size = 1000 #A\n",
    "batch_size = 200 #B\n",
    "replay = deque(maxlen=mem_size) #C\n",
    "max_moves = 50 #D\n",
    "h = 0\n",
    "for i in range(epochs):\n",
    "    game = Gridworld(size=4, mode='random')\n",
    "    state1_ = game.board.render_np().reshape(1,64) + np.random.rand(1,64)/100.0\n",
    "    state1 = torch.from_numpy(state1_).float()\n",
    "    status = 1\n",
    "    mov = 0\n",
    "    while(status == 1): \n",
    "        mov += 1\n",
    "        qval = model(state1) #E\n",
    "        qval_ = qval.data.numpy()\n",
    "        if (random.random() < epsilon): #F\n",
    "            action_ = np.random.randint(0,4)\n",
    "        else:\n",
    "            action_ = np.argmax(qval_)\n",
    "        \n",
    "        action = action_set[action_]\n",
    "        game.makeMove(action)\n",
    "        state2_ = game.board.render_np().reshape(1,64) + np.random.rand(1,64)/100.0\n",
    "        state2 = torch.from_numpy(state2_).float()\n",
    "        reward = game.reward()\n",
    "        done = True if reward > 0 else False\n",
    "        exp =  (state1, action_, reward, state2, done) #G\n",
    "        replay.append(exp) #H\n",
    "        state1 = state2\n",
    "        \n",
    "        if len(replay) > batch_size: #I\n",
    "            minibatch = random.sample(replay, batch_size) #J\n",
    "            state1_batch = torch.cat([s1 for (s1,a,r,s2,d) in minibatch]) #K\n",
    "            action_batch = torch.Tensor([a for (s1,a,r,s2,d) in minibatch])\n",
    "            reward_batch = torch.Tensor([r for (s1,a,r,s2,d) in minibatch])\n",
    "            state2_batch = torch.cat([s2 for (s1,a,r,s2,d) in minibatch])\n",
    "            done_batch = torch.Tensor([d for (s1,a,r,s2,d) in minibatch])\n",
    "            \n",
    "            Q1 = model(state1_batch) #L\n",
    "            with torch.no_grad():\n",
    "                Q2 = model(state2_batch) #M\n",
    "            \n",
    "            Y = reward_batch + gamma * ((1 - done_batch) * torch.max(Q2,dim=1)[0]) #N\n",
    "            X = Q1.gather(dim=1,index=action_batch.long().unsqueeze(dim=1)).squeeze()\n",
    "            loss = loss_fn(X, Y.detach())\n",
    "            print(i, loss.item())\n",
    "            clear_output(wait=True)\n",
    "            optimizer.zero_grad()\n",
    "            loss.backward()\n",
    "            losses.append(loss.item())\n",
    "            optimizer.step()\n",
    "\n",
    "        if reward != -1 or mov > max_moves: #O\n",
    "            status = 0\n",
    "            mov = 0\n",
    "losses = np.array(losses)\n",
    "\n",
    "#A Set the total size of the experience replay memory\n",
    "#B Set the minibatch size\n",
    "#C Create the memory replay as a deque list\n",
    "#D Maximum number of moves before game is over\n",
    "#E Compute Q-values from input state in order to select action\n",
    "#F Select action using epsilon-greedy strategy\n",
    "#G Create experience of state, reward, action and next state as a tuple\n",
    "#H Add experience to experience replay list\n",
    "#I If replay list is at least as long as minibatch size, begin minibatch training\n",
    "#J Randomly sample a subset of the replay list\n",
    "#K Separate out the components of each experience into separate minibatch tensors\n",
    "#L Re-compute Q-values for minibatch of states to get gradients\n",
    "#M Compute Q-values for minibatch of next states but don't compute gradients\n",
    "#N Compute the target Q-values we want the DQN to learn\n",
    "#O If game is over, reset status and mov number"
   ]
  },
  {
   "cell_type": "code",
   "execution_count": 11,
   "metadata": {},
   "outputs": [],
   "source": [
    "def running_mean(x,N=50):\n",
    "    c = x.shape[0] - N\n",
    "    y = np.zeros(c)\n",
    "    conv = np.ones(N)\n",
    "    for i in range(c):\n",
    "        y[i] = (x[i:i+N] @ conv)/N\n",
    "    return y"
   ]
  },
  {
   "cell_type": "code",
   "execution_count": 12,
   "metadata": {},
   "outputs": [
    {
     "data": {
      "text/plain": [
       "Text(0, 0.5, 'Loss')"
      ]
     },
     "execution_count": 12,
     "metadata": {},
     "output_type": "execute_result"
    },
    {
     "data": {
      "image/png": "[encoded data removed]",
      "text/plain": [
       "<Figure size 720x504 with 1 Axes>"
      ]
     },
     "metadata": {
      "needs_background": "light"
     },
     "output_type": "display_data"
    }
   ],
   "source": [
    "plt.figure(figsize=(10,7))\n",
    "plt.plot(losses)\n",
    "plt.xlabel(\"Epochs\",fontsize=22)\n",
    "plt.ylabel(\"Loss\",fontsize=22)"
   ]
  },
  {
   "cell_type": "code",
   "execution_count": 13,
   "metadata": {},
   "outputs": [
    {
     "name": "stdout",
     "output_type": "stream",
     "text": [
      "Games played: 1000, # of wins: 812\n",
      "Win percentage: 81.2%\n"
     ]
    }
   ],
   "source": [
    "max_games = 1000\n",
    "wins = 0\n",
    "for i in range(max_games):\n",
    "    win = test_model(model, mode='random', display=False)\n",
    "    if win:\n",
    "        wins += 1\n",
    "win_perc = float(wins) / float(max_games)\n",
    "print(\"Games played: {0}, # of wins: {1}\".format(max_games,wins))\n",
    "print(\"Win percentage: {}%\".format(100.0*win_perc))"
   ]
  },
  {
   "cell_type": "code",
   "execution_count": 14,
   "metadata": {},
   "outputs": [
    {
     "name": "stdout",
     "output_type": "stream",
     "text": [
      "Initial State:\n",
      "[['-' ' ' ' ' '+']\n",
      " [' ' ' ' 'P' 'W']\n",
      " [' ' ' ' ' ' ' ']\n",
      " [' ' ' ' ' ' ' ']]\n",
      "Move #: 0; Taking action: u\n",
      "[['-' ' ' 'P' '+']\n",
      " [' ' ' ' ' ' 'W']\n",
      " [' ' ' ' ' ' ' ']\n",
      " [' ' ' ' ' ' ' ']]\n",
      "Move #: 1; Taking action: r\n",
      "[['-' ' ' ' ' '+']\n",
      " [' ' ' ' ' ' 'W']\n",
      " [' ' ' ' ' ' ' ']\n",
      " [' ' ' ' ' ' ' ']]\n",
      "Game won! Reward: 10\n"
     ]
    },
    {
     "data": {
      "text/plain": [
       "True"
      ]
     },
     "execution_count": 14,
     "metadata": {},
     "output_type": "execute_result"
    }
   ],
   "source": [
    "test_model(model, mode='random')"
   ]
  },
  {
   "cell_type": "markdown",
   "metadata": {},
   "source": [
    "###### Listing 3.7"
   ]
  },
  {
   "cell_type": "code",
   "execution_count": 15,
   "metadata": {},
   "outputs": [],
   "source": [
    "import copy\n",
    "\n",
    "l1 = 64\n",
    "l2 = 150\n",
    "l3 = 100\n",
    "l4 = 4\n",
    "\n",
    "\n",
    "model = torch.nn.Sequential(\n",
    "    torch.nn.Linear(l1, l2),\n",
    "    torch.nn.ReLU(),\n",
    "    torch.nn.Linear(l2, l3),\n",
    "    torch.nn.ReLU(),\n",
    "    torch.nn.Linear(l3,l4)\n",
    ")\n",
    "\n",
    "model2 = copy.deepcopy(model) #A\n",
    "model2.load_state_dict(model.state_dict()) #B\n",
    "\n",
    "loss_fn = torch.nn.MSELoss()\n",
    "learning_rate = 1e-3\n",
    "optimizer = torch.optim.Adam(model.parameters(), lr=learning_rate)\n",
    "\n",
    "gamma = 0.9\n",
    "epsilon = 0.3"
   ]
  },
  {
   "cell_type": "code",
   "execution_count": 93,
   "metadata": {},
   "outputs": [
    {
     "name": "stdout",
     "output_type": "stream",
     "text": [
      "2999 0.02813359536230564\n"
     ]
    }
   ],
   "source": [
    "from collections import deque\n",
    "epochs = 5000\n",
    "losses = []\n",
    "mem_size = 1000\n",
    "batch_size = 200\n",
    "replay = deque(maxlen=mem_size)\n",
    "max_moves = 50\n",
    "h = 0\n",
    "sync_freq = 500 #A\n",
    "j=0\n",
    "for i in range(epochs):\n",
    "    game = Gridworld(size=4, mode='random')\n",
    "    state1_ = game.board.render_np().reshape(1,64) + np.random.rand(1,64)/100.0\n",
    "    state1 = torch.from_numpy(state1_).float()\n",
    "    status = 1\n",
    "    mov = 0\n",
    "    while(status == 1): \n",
    "        j+=1\n",
    "        mov += 1\n",
    "        qval = model(state1)\n",
    "        qval_ = qval.data.numpy()\n",
    "        if (random.random() < epsilon):\n",
    "            action_ = np.random.randint(0,4)\n",
    "        else:\n",
    "            action_ = np.argmax(qval_)\n",
    "        \n",
    "        action = action_set[action_]\n",
    "        game.makeMove(action)\n",
    "        state2_ = game.board.render_np().reshape(1,64) + np.random.rand(1,64)/100.0\n",
    "        state2 = torch.from_numpy(state2_).float()\n",
    "        reward = game.reward()\n",
    "        done = True if reward > 0 else False\n",
    "        exp =  (state1, action_, reward, state2, done)\n",
    "        replay.append(exp) #H\n",
    "        state1 = state2\n",
    "        \n",
    "        if len(replay) > batch_size:\n",
    "            minibatch = random.sample(replay, batch_size)\n",
    "            state1_batch = torch.cat([s1 for (s1,a,r,s2,d) in minibatch])\n",
    "            action_batch = torch.Tensor([a for (s1,a,r,s2,d) in minibatch])\n",
    "            reward_batch = torch.Tensor([r for (s1,a,r,s2,d) in minibatch])\n",
    "            state2_batch = torch.cat([s2 for (s1,a,r,s2,d) in minibatch])\n",
    "            done_batch = torch.Tensor([d for (s1,a,r,s2,d) in minibatch])\n",
    "            Q1 = model(state1_batch) \n",
    "            with torch.no_grad():\n",
    "                Q2 = model2(state2_batch) #B\n",
    "            \n",
    "            Y = reward_batch + gamma * ((1-done_batch) * torch.max(Q2,dim=1)[0])\n",
    "            X = Q1.gather(dim=1,index=action_batch.long().unsqueeze(dim=1)).squeeze()\n",
    "            loss = loss_fn(X, Y.detach())\n",
    "            print(i, loss.item())\n",
    "            clear_output(wait=True)\n",
    "            optimizer.zero_grad()\n",
    "            loss.backward()\n",
    "            losses.append(loss.item())\n",
    "            optimizer.step()\n",
    "            \n",
    "            if j % sync_freq == 0: #C\n",
    "                model2.load_state_dict(model.state_dict())\n",
    "        if reward != -1 or mov > max_moves:\n",
    "            status = 0\n",
    "            mov = 0\n",
    "        \n",
    "losses = np.array(losses)\n",
    "\n",
    "#A Set the update frequency for synchronizing the target model parameters to the main DQN\n",
    "#B Use the target network to get the maiximum Q-value for the next state\n",
    "#C Copy the main model parameters to the target network"
   ]
  },
  {
   "cell_type": "code",
   "execution_count": 94,
   "metadata": {},
   "outputs": [
    {
     "data": {
      "text/plain": [
       "Text(0, 0.5, 'Loss')"
      ]
     },
     "execution_count": 94,
     "metadata": {},
     "output_type": "execute_result"
    },
    {
     "data": {
      "image/png": "[encoded data removed]",
      "text/plain": [
       "<Figure size 720x504 with 1 Axes>"
      ]
     },
     "metadata": {
      "needs_background": "light"
     },
     "output_type": "display_data"
    }
   ],
   "source": [
    "plt.figure(figsize=(10,7))\n",
    "plt.plot(losses)\n",
    "plt.xlabel(\"Epochs\",fontsize=22)\n",
    "plt.ylabel(\"Loss\",fontsize=22)"
   ]
  },
  {
   "cell_type": "code",
   "execution_count": 108,
   "metadata": {},
   "outputs": [
    {
     "name": "stdout",
     "output_type": "stream",
     "text": [
      "Games played: 1000, # of wins: 942\n",
      "Win percentage: 94.19999999999999%\n"
     ]
    }
   ],
   "source": [
    "max_games = 1000\n",
    "wins = 0\n",
    "for i in range(max_games):\n",
    "    win = test_model(model, mode='random', display=False)\n",
    "    if win:\n",
    "        wins += 1\n",
    "win_perc = float(wins) / float(max_games)\n",
    "print(\"Games played: {0}, # of wins: {1}\".format(max_games,wins))\n",
    "print(\"Win percentage: {}%\".format(100.0*win_perc))"
   ]
  },
  {
   "cell_type": "code",
   "execution_count": null,
   "metadata": {},
   "outputs": [],
   "source": []
  }
 ],
 "metadata": {
  "kernelspec": {
   "display_name": "Python 3 (ipykernel)",
   "language": "python",
   "name": "python3"
  },
  "language_info": {
   "codemirror_mode": {
    "name": "ipython",
    "version": 3
   },
   "file_extension": ".py",
   "mimetype": "text/x-python",
   "name": "python",
   "nbconvert_exporter": "python",
   "pygments_lexer": "ipython3",
   "version": "3.9.7"
  }
 },
 "nbformat": 4,
 "nbformat_minor": 2
}
